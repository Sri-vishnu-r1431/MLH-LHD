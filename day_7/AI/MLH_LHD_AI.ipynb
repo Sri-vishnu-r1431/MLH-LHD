{
  "nbformat": 4,
  "nbformat_minor": 0,
  "metadata": {
    "colab": {
      "name": "MLH-LHD AI",
      "provenance": []
    },
    "kernelspec": {
      "name": "python3",
      "display_name": "Python 3"
    },
    "language_info": {
      "name": "python"
    }
  },
  "cells": [
    {
      "cell_type": "code",
      "metadata": {
        "colab": {
          "resources": {
            "http://localhost:8080/nbextensions/google.colab/files.js": {
              "data": "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",
              "ok": true,
              "headers": [
                [
                  "content-type",
                  "application/javascript"
                ]
              ],
              "status": 200,
              "status_text": ""
            }
          },
          "base_uri": "https://localhost:8080/",
          "height": 72
        },
        "id": "AaH-VxxfIkMX",
        "outputId": "2a37a8eb-74a2-440d-e984-7ecd6fff4c14"
      },
      "source": [
        "from google.colab import files\n",
        "uploaded=files.upload()"
      ],
      "execution_count": null,
      "outputs": [
        {
          "output_type": "display_data",
          "data": {
            "text/html": [
              "\n",
              "     <input type=\"file\" id=\"files-bd5bdeac-cc4a-4547-8bf7-e06f5ee1599c\" name=\"files[]\" multiple disabled\n",
              "        style=\"border:none\" />\n",
              "     <output id=\"result-bd5bdeac-cc4a-4547-8bf7-e06f5ee1599c\">\n",
              "      Upload widget is only available when the cell has been executed in the\n",
              "      current browser session. Please rerun this cell to enable.\n",
              "      </output>\n",
              "      <script src=\"/nbextensions/google.colab/files.js\"></script> "
            ],
            "text/plain": [
              "<IPython.core.display.HTML object>"
            ]
          },
          "metadata": {
            "tags": []
          }
        },
        {
          "output_type": "stream",
          "text": [
            "Saving PlayTennis.csv to PlayTennis (1).csv\n"
          ],
          "name": "stdout"
        }
      ]
    },
    {
      "cell_type": "code",
      "metadata": {
        "colab": {
          "base_uri": "https://localhost:8080/"
        },
        "id": "ceYc8ZVjLeqq",
        "outputId": "bb0bb706-9501-40bd-8543-9a232ab9303c"
      },
      "source": [
        "import pandas as pd\n",
        "import io\n",
        "df2=pd.read_csv(io.BytesIO(uploaded['PlayTennis.csv']))\n",
        "print(df2)\n"
      ],
      "execution_count": null,
      "outputs": [
        {
          "output_type": "stream",
          "text": [
            "   PlayTennis   Outlook Temperature Humidity    Wind\n",
            "0          No     Sunny         Hot     High    Weak\n",
            "1          No     Sunny         Hot     High  Strong\n",
            "2         Yes  Overcast         Hot     High    Weak\n",
            "3         Yes      Rain        Mild     High    Weak\n",
            "4         Yes      Rain        Cool   Normal    Weak\n",
            "5          No      Rain        Cool   Normal  Strong\n",
            "6         Yes  Overcast        Cool   Normal  Strong\n",
            "7          No     Sunny        Mild     High    Weak\n",
            "8         Yes     Sunny        Cool   Normal    Weak\n",
            "9         Yes      Rain        Mild   Normal    Weak\n",
            "10        Yes     Sunny        Mild   Normal  Strong\n",
            "11        Yes  Overcast        Mild     High  Strong\n",
            "12        Yes  Overcast         Hot   Normal    Weak\n",
            "13         No      Rain        Mild     High  Strong\n"
          ],
          "name": "stdout"
        }
      ]
    },
    {
      "cell_type": "code",
      "metadata": {
        "id": "OH6bOFoTM9lz"
      },
      "source": [
        "def entropy(probs):\n",
        "  import math\n",
        "  return sum([-prob*math.log(prob,2) for prob in probs])\n",
        "\n",
        "def entropy_of_list(a_list):\n",
        "  from collections import Counter\n",
        "  cnt=Counter(x for x in a_list)\n",
        "  num_instances=len(a_list)*1.0\n",
        "  print(\"\\n Number of Instances of current sun class is {0}:\".format(num_instances))\n",
        "  probs=[x/num_instances for x in cnt.values()]\n",
        "  print(\"\\n classes:\",min(cnt),max(cnt))\n",
        "  print(\"\\n Probabilites of class {0} is {1}\".format(min(cnt),min(probs)))\n",
        "  print(\"\\n Probabilites of class {0} is {1}\".format(max(cnt),max(probs)))\n",
        "  return entropy(probs)\n",
        "print(\"\\n INPUT DATASET FOR ENTROPY CALCULATION:\\n\",df2['PlayTennis'])\n",
        "total_entropy=entropy_of_list(df2['PlayTennis'])\n",
        "print(\"\\n Total entropy of play Tennis Data Set:\",total_entropy)\n"
      ],
      "execution_count": null,
      "outputs": []
    },
    {
      "cell_type": "code",
      "metadata": {
        "colab": {
          "base_uri": "https://localhost:8080/"
        },
        "id": "cuZ7qsEpW1Zb",
        "outputId": "e9db11e2-e6db-433d-e16e-cbaea8d2d476"
      },
      "source": [
        "def information_gain(df,split_attribute_name,target_attribute_name,tarce=0):\n",
        "  print(\"\\n Information Gain calculation of\",split_attribute_name)\n",
        "  df_split=df.groupby(split_attribute_name)\n",
        "  nobs=len(df.index)*1.0\n",
        "  df_agg_ent=df_split.agg({target_attribute_name:[entropy_of_list,lambda x:len(x)/nobs]})[target_attribute_name]\n",
        "  df_agg_ent.columns=['Entropy','PropObservations']\n",
        "  new_entropy=sum(df_agg_ent['Entropy']*df_agg_ent['PropObservations'])\n",
        "  old_entropy=entropy_of_list(df[target_attribute_name])\n",
        "  return old_entropy-new_entropy\n",
        "print('Information gain for outlook is: '+str(information_gain(df2,'Outlook','PlayTennis')),\"\\n\")\n",
        "print('Information Gain for Humidity is:'+str(information_gain(df2,'Humidity','PlayTennis')),\"\\n\")\n",
        "print('Information Gain for Wind is:'+str(information_gain(df2,'Wind','PlayTennis')),\"\\n\")\n",
        "print('Information Gain for Temprature is:'+str(information_gain(df2,'Temperature','PlayTennis')),\"\\n\")\n"
      ],
      "execution_count": null,
      "outputs": [
        {
          "output_type": "stream",
          "text": [
            "\n",
            " Information Gain calculation of Outlook\n",
            "\n",
            " Number of Instances of current sun class is 4.0:\n",
            "\n",
            " classes: Yes Yes\n",
            "\n",
            " Probabilites of class Yes is 1.0\n",
            "\n",
            " Probabilites of class Yes is 1.0\n",
            "\n",
            " Number of Instances of current sun class is 5.0:\n",
            "\n",
            " classes: No Yes\n",
            "\n",
            " Probabilites of class No is 0.4\n",
            "\n",
            " Probabilites of class Yes is 0.6\n",
            "\n",
            " Number of Instances of current sun class is 5.0:\n",
            "\n",
            " classes: No Yes\n",
            "\n",
            " Probabilites of class No is 0.4\n",
            "\n",
            " Probabilites of class Yes is 0.6\n",
            "\n",
            " Number of Instances of current sun class is 14.0:\n",
            "\n",
            " classes: No Yes\n",
            "\n",
            " Probabilites of class No is 0.35714285714285715\n",
            "\n",
            " Probabilites of class Yes is 0.6428571428571429\n",
            "Information gain for outlook is: 0.2467498197744391 \n",
            "\n",
            "\n",
            " Information Gain calculation of Humidity\n",
            "\n",
            " Number of Instances of current sun class is 7.0:\n",
            "\n",
            " classes: No Yes\n",
            "\n",
            " Probabilites of class No is 0.42857142857142855\n",
            "\n",
            " Probabilites of class Yes is 0.5714285714285714\n",
            "\n",
            " Number of Instances of current sun class is 7.0:\n",
            "\n",
            " classes: No Yes\n",
            "\n",
            " Probabilites of class No is 0.14285714285714285\n",
            "\n",
            " Probabilites of class Yes is 0.8571428571428571\n",
            "\n",
            " Number of Instances of current sun class is 14.0:\n",
            "\n",
            " classes: No Yes\n",
            "\n",
            " Probabilites of class No is 0.35714285714285715\n",
            "\n",
            " Probabilites of class Yes is 0.6428571428571429\n",
            "Information Gain for Humidity is:0.15183550136234136 \n",
            "\n",
            "\n",
            " Information Gain calculation of Wind\n",
            "\n",
            " Number of Instances of current sun class is 6.0:\n",
            "\n",
            " classes: No Yes\n",
            "\n",
            " Probabilites of class No is 0.5\n",
            "\n",
            " Probabilites of class Yes is 0.5\n",
            "\n",
            " Number of Instances of current sun class is 8.0:\n",
            "\n",
            " classes: No Yes\n",
            "\n",
            " Probabilites of class No is 0.25\n",
            "\n",
            " Probabilites of class Yes is 0.75\n",
            "\n",
            " Number of Instances of current sun class is 14.0:\n",
            "\n",
            " classes: No Yes\n",
            "\n",
            " Probabilites of class No is 0.35714285714285715\n",
            "\n",
            " Probabilites of class Yes is 0.6428571428571429\n",
            "Information Gain for Wind is:0.04812703040826927 \n",
            "\n",
            "\n",
            " Information Gain calculation of Temperature\n",
            "\n",
            " Number of Instances of current sun class is 4.0:\n",
            "\n",
            " classes: No Yes\n",
            "\n",
            " Probabilites of class No is 0.25\n",
            "\n",
            " Probabilites of class Yes is 0.75\n",
            "\n",
            " Number of Instances of current sun class is 4.0:\n",
            "\n",
            " classes: No Yes\n",
            "\n",
            " Probabilites of class No is 0.5\n",
            "\n",
            " Probabilites of class Yes is 0.5\n",
            "\n",
            " Number of Instances of current sun class is 6.0:\n",
            "\n",
            " classes: No Yes\n",
            "\n",
            " Probabilites of class No is 0.3333333333333333\n",
            "\n",
            " Probabilites of class Yes is 0.6666666666666666\n",
            "\n",
            " Number of Instances of current sun class is 14.0:\n",
            "\n",
            " classes: No Yes\n",
            "\n",
            " Probabilites of class No is 0.35714285714285715\n",
            "\n",
            " Probabilites of class Yes is 0.6428571428571429\n",
            "Information Gain for Temprature is:0.029222565658954647 \n",
            "\n"
          ],
          "name": "stdout"
        }
      ]
    }
  ]
}